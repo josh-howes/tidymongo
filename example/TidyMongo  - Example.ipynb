{
 "cells": [
  {
   "cell_type": "markdown",
   "metadata": {},
   "source": [
    "# TidyMongo\n",
    "Make Mongo collections useful for data analysis by converting them to \"tidy\" pandas data frames\n",
    "\n",
    "**References**\n",
    "\n",
    "* [Tidy Data](http://vita.had.co.nz/papers/tidy-data.pdf)\n",
    "* [Pandas](http://pandas.pydata.org/)"
   ]
  },
  {
   "cell_type": "markdown",
   "metadata": {},
   "source": [
    "Querying mongo, we get lists of dictionaries.  Although this is flexible, is difficult to use for data analysis. Not to mention, our mongo collections containing nested data structures that are painful to parse.  "
   ]
  },
  {
   "cell_type": "code",
   "execution_count": 95,
   "metadata": {
    "collapsed": true
   },
   "outputs": [],
   "source": [
    "from pymongo import MongoClient"
   ]
  },
  {
   "cell_type": "code",
   "execution_count": 96,
   "metadata": {
    "collapsed": true
   },
   "outputs": [],
   "source": [
    "from pymongo import Connection\n",
    "connection = Connection()\n",
    "db = connection['test-database']\n",
    "collection = db['test-collection']"
   ]
  },
  {
   "cell_type": "code",
   "execution_count": null,
   "metadata": {
    "collapsed": true
   },
   "outputs": [],
   "source": [
    "result = db['test-collection'].insert_one(\n",
    "    {\n",
    "        \"address\": {\n",
    "            \"street\": \"2 Avenue\",\n",
    "            \"zipcode\": \"10075\",\n",
    "            \"building\": \"1480\",\n",
    "            \"coord\": [-73.9557413, 40.7720266]\n",
    "        },\n",
    "        \"borough\": \"Manhattan\",\n",
    "        \"cuisine\": \"Italian\",\n",
    "        \"grades\": [\n",
    "            {\n",
    "                \"date\": datetime.strptime(\"2014-10-01\", \"%Y-%m-%d\"),\n",
    "                \"grade\": \"A\",\n",
    "                \"score\": 11\n",
    "            },\n",
    "            {\n",
    "                \"date\": datetime.strptime(\"2014-01-16\", \"%Y-%m-%d\"),\n",
    "                \"grade\": \"B\",\n",
    "                \"score\": 17\n",
    "            }\n",
    "        ],\n",
    "        \"name\": \"Vella\",\n",
    "        \"restaurant_id\": \"41704620\"\n",
    "    }\n",
    ")\n",
    "\n",
    "result = db['test-collection'].insert_one(\n",
    "    {\n",
    "        \"address\": {\n",
    "            \"street\": \"123 Main St\",\n",
    "            \"zipcode\": \"555555\",\n",
    "            \"building\": \"1480\",\n",
    "            \"coord\": [-73.9557413, 40.7720266]\n",
    "        },\n",
    "        \"borough\": \"Durham\",\n",
    "        \"cuisine\": \"American\",\n",
    "        \"grades\": [\n",
    "            {\n",
    "                \"date\": datetime.strptime(\"2011-07-04\", \"%Y-%m-%d\"),\n",
    "                \"grade\": \"A\",\n",
    "                \"score\": 11\n",
    "            },\n",
    "            {\n",
    "                \"date\": datetime.strptime(\"1983-01-25\", \"%Y-%m-%d\"),\n",
    "                \"grade\": \"B\",\n",
    "                \"score\": 17\n",
    "            }\n",
    "        ],\n",
    "        \"name\": \"MadeUp Food\",\n",
    "        \"restaurant_id\": \"41704621\"\n",
    "    }\n",
    ")"
   ]
  },
  {
   "cell_type": "code",
   "execution_count": 100,
   "metadata": {
    "collapsed": false
   },
   "outputs": [
    {
     "data": {
      "text/plain": [
       "{u'_id': ObjectId('58514ffa77ead852f0a04819'),\n",
       " u'address': {u'building': u'1480',\n",
       "  u'coord': [-73.9557413, 40.7720266],\n",
       "  u'street': u'2 Avenue',\n",
       "  u'zipcode': u'10075'},\n",
       " u'borough': u'Manhattan',\n",
       " u'cuisine': u'Italian',\n",
       " u'grades': [{u'date': datetime.datetime(2014, 10, 1, 0, 0),\n",
       "   u'grade': u'A',\n",
       "   u'score': 11},\n",
       "  {u'date': datetime.datetime(2014, 1, 16, 0, 0),\n",
       "   u'grade': u'B',\n",
       "   u'score': 17}],\n",
       " u'name': u'Vella',\n",
       " u'restaurant_id': u'41704620'}"
      ]
     },
     "execution_count": 100,
     "metadata": {},
     "output_type": "execute_result"
    }
   ],
   "source": [
    "db['test-collection'].find_one()"
   ]
  },
  {
   "cell_type": "markdown",
   "metadata": {},
   "source": [
    "Yuck!!!"
   ]
  },
  {
   "cell_type": "markdown",
   "metadata": {},
   "source": [
    "## Enter TidyMongo\n",
    "\n",
    "Tool to normalize mongo collection into relational, normalized pandas dataframes"
   ]
  },
  {
   "cell_type": "code",
   "execution_count": 101,
   "metadata": {
    "collapsed": false
   },
   "outputs": [
    {
     "data": {
      "text/plain": [
       "TidyResult(tables=[u'grades', u'address', 'restaurants'])"
      ]
     },
     "execution_count": 101,
     "metadata": {},
     "output_type": "execute_result"
    }
   ],
   "source": [
    "from tidymongo import tidy\n",
    "tables = tidy(db['test-collection'].find().limit(100), 'restaurants')\n",
    "tables"
   ]
  },
  {
   "cell_type": "code",
   "execution_count": 102,
   "metadata": {
    "collapsed": false
   },
   "outputs": [
    {
     "data": {
      "text/html": [
       "<div>\n",
       "<table border=\"1\" class=\"dataframe\">\n",
       "  <thead>\n",
       "    <tr style=\"text-align: right;\">\n",
       "      <th></th>\n",
       "      <th>borough</th>\n",
       "      <th>cuisine</th>\n",
       "      <th>name</th>\n",
       "      <th>restaurant_id</th>\n",
       "    </tr>\n",
       "    <tr>\n",
       "      <th>_id</th>\n",
       "      <th></th>\n",
       "      <th></th>\n",
       "      <th></th>\n",
       "      <th></th>\n",
       "    </tr>\n",
       "  </thead>\n",
       "  <tbody>\n",
       "    <tr>\n",
       "      <th>58514ffa77ead852f0a04819</th>\n",
       "      <td>Manhattan</td>\n",
       "      <td>Italian</td>\n",
       "      <td>Vella</td>\n",
       "      <td>41704620</td>\n",
       "    </tr>\n",
       "    <tr>\n",
       "      <th>5851505777ead852f0a0481a</th>\n",
       "      <td>Durham</td>\n",
       "      <td>American</td>\n",
       "      <td>MadeUp Food</td>\n",
       "      <td>41704621</td>\n",
       "    </tr>\n",
       "  </tbody>\n",
       "</table>\n",
       "</div>"
      ],
      "text/plain": [
       "                            borough   cuisine         name restaurant_id\n",
       "_id                                                                     \n",
       "58514ffa77ead852f0a04819  Manhattan   Italian        Vella      41704620\n",
       "5851505777ead852f0a0481a     Durham  American  MadeUp Food      41704621"
      ]
     },
     "execution_count": 102,
     "metadata": {},
     "output_type": "execute_result"
    }
   ],
   "source": [
    "tables.restaurants.head(n=2)"
   ]
  },
  {
   "cell_type": "markdown",
   "metadata": {},
   "source": [
    "Nested document collections are split out to new dataframes with a foreign key columns (orders)"
   ]
  },
  {
   "cell_type": "code",
   "execution_count": 103,
   "metadata": {
    "collapsed": false
   },
   "outputs": [
    {
     "data": {
      "text/html": [
       "<div>\n",
       "<table border=\"1\" class=\"dataframe\">\n",
       "  <thead>\n",
       "    <tr style=\"text-align: right;\">\n",
       "      <th></th>\n",
       "      <th>date</th>\n",
       "      <th>grade</th>\n",
       "      <th>restaurants</th>\n",
       "      <th>score</th>\n",
       "    </tr>\n",
       "  </thead>\n",
       "  <tbody>\n",
       "    <tr>\n",
       "      <th>0</th>\n",
       "      <td>2014-10-01</td>\n",
       "      <td>A</td>\n",
       "      <td>58514ffa77ead852f0a04819</td>\n",
       "      <td>11</td>\n",
       "    </tr>\n",
       "    <tr>\n",
       "      <th>1</th>\n",
       "      <td>2014-01-16</td>\n",
       "      <td>B</td>\n",
       "      <td>58514ffa77ead852f0a04819</td>\n",
       "      <td>17</td>\n",
       "    </tr>\n",
       "  </tbody>\n",
       "</table>\n",
       "</div>"
      ],
      "text/plain": [
       "        date grade               restaurants  score\n",
       "0 2014-10-01     A  58514ffa77ead852f0a04819     11\n",
       "1 2014-01-16     B  58514ffa77ead852f0a04819     17"
      ]
     },
     "execution_count": 103,
     "metadata": {},
     "output_type": "execute_result"
    }
   ],
   "source": [
    "tables.grades.head(n=2)"
   ]
  },
  {
   "cell_type": "code",
   "execution_count": 104,
   "metadata": {
    "collapsed": false
   },
   "outputs": [
    {
     "data": {
      "text/html": [
       "<div>\n",
       "<table border=\"1\" class=\"dataframe\">\n",
       "  <thead>\n",
       "    <tr style=\"text-align: right;\">\n",
       "      <th></th>\n",
       "      <th>building</th>\n",
       "      <th>coord</th>\n",
       "      <th>restaurants</th>\n",
       "      <th>street</th>\n",
       "      <th>zipcode</th>\n",
       "    </tr>\n",
       "  </thead>\n",
       "  <tbody>\n",
       "    <tr>\n",
       "      <th>0</th>\n",
       "      <td>1480</td>\n",
       "      <td>[-73.9557413, 40.7720266]</td>\n",
       "      <td>58514ffa77ead852f0a04819</td>\n",
       "      <td>2 Avenue</td>\n",
       "      <td>10075</td>\n",
       "    </tr>\n",
       "    <tr>\n",
       "      <th>1</th>\n",
       "      <td>1480</td>\n",
       "      <td>[-73.9557413, 40.7720266]</td>\n",
       "      <td>5851505777ead852f0a0481a</td>\n",
       "      <td>123 Main St</td>\n",
       "      <td>555555</td>\n",
       "    </tr>\n",
       "  </tbody>\n",
       "</table>\n",
       "</div>"
      ],
      "text/plain": [
       "  building                      coord               restaurants       street  \\\n",
       "0     1480  [-73.9557413, 40.7720266]  58514ffa77ead852f0a04819     2 Avenue   \n",
       "1     1480  [-73.9557413, 40.7720266]  5851505777ead852f0a0481a  123 Main St   \n",
       "\n",
       "  zipcode  \n",
       "0   10075  \n",
       "1  555555  "
      ]
     },
     "execution_count": 104,
     "metadata": {},
     "output_type": "execute_result"
    }
   ],
   "source": [
    "tables.address.head(n=2)"
   ]
  },
  {
   "cell_type": "code",
   "execution_count": null,
   "metadata": {
    "collapsed": true
   },
   "outputs": [],
   "source": []
  },
  {
   "cell_type": "markdown",
   "metadata": {},
   "source": [
    "# Example: Find mean score by restaurant"
   ]
  },
  {
   "cell_type": "code",
   "execution_count": 105,
   "metadata": {
    "collapsed": false
   },
   "outputs": [
    {
     "data": {
      "text/plain": [
       "restaurants\n",
       "58514ffa77ead852f0a04819    14\n",
       "5851505777ead852f0a0481a    14\n",
       "Name: score, dtype: int64"
      ]
     },
     "execution_count": 105,
     "metadata": {},
     "output_type": "execute_result"
    }
   ],
   "source": [
    "tables.grades.groupby('restaurants').score.mean()"
   ]
  },
  {
   "cell_type": "code",
   "execution_count": null,
   "metadata": {
    "collapsed": true
   },
   "outputs": [],
   "source": []
  }
 ],
 "metadata": {
  "kernelspec": {
   "display_name": "Python [conda root]",
   "language": "python",
   "name": "conda-root-py"
  },
  "language_info": {
   "codemirror_mode": {
    "name": "ipython",
    "version": 2
   },
   "file_extension": ".py",
   "mimetype": "text/x-python",
   "name": "python",
   "nbconvert_exporter": "python",
   "pygments_lexer": "ipython2",
   "version": "2.7.12"
  }
 },
 "nbformat": 4,
 "nbformat_minor": 1
}
