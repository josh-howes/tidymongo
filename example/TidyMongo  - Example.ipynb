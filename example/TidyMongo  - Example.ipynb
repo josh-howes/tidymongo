{
 "cells": [
  {
   "cell_type": "markdown",
   "metadata": {},
   "source": [
    "# TidyMongo\n",
    "Make Mongo collections useful for data analysis by converting them to \"tidy\" pandas data frames\n",
    "\n",
    "**References**\n",
    "\n",
    "* [Tidy Data](http://vita.had.co.nz/papers/tidy-data.pdf)\n",
    "* [Pandas](http://pandas.pydata.org/)"
   ]
  },
  {
   "cell_type": "markdown",
   "metadata": {},
   "source": [
    "Querying mongo, we get lists of dictionaries.  Although this is flexible, is difficult to use for data analysis. Not to mention, our mongo collections containing nested data structures that are painful to parse.  "
   ]
  },
  {
   "cell_type": "code",
   "execution_count": 41,
   "metadata": {
    "collapsed": false
   },
   "outputs": [
    {
     "data": {
      "text/plain": [
       "{u'_constructed': datetime.datetime(2015, 2, 4, 16, 38, 57, 444000),\n",
       " u'_deleted': False,\n",
       " u'_id': u'0000-10000',\n",
       " u'_updated': datetime.datetime(2016, 2, 1, 7, 49, 36, 651000),\n",
       " u'assembly_required': False,\n",
       " u'history': [{u'_cls': u'OrderHistory',\n",
       "   u'status': u'RFQ',\n",
       "   u'time': datetime.datetime(2015, 2, 4, 16, 38, 57, 444000)},\n",
       "  {u'_cls': u'OrderHistory',\n",
       "   u'status': u'Auto-Quoted',\n",
       "   u'time': datetime.datetime(2015, 2, 4, 16, 38, 57, 758000)}],\n",
       " u'line_items': {u'discount': 0.0,\n",
       "  u'points_earned': 0.0,\n",
       "  u'points_redeemed': 0,\n",
       "  u'shipping': 0.0,\n",
       "  u'tax': 0.0},\n",
       " u'parts': [{u'_id': ObjectId('56af0e109b724741d713f58d'),\n",
       "   u'finish': ObjectId('543ef1f380da5b0c476373bf'),\n",
       "   u'history': [{u'_cls': u'AdditivePartHistory',\n",
       "     u'status': u'RFQ',\n",
       "     u'time': datetime.datetime(2015, 2, 4, 16, 38, 57, 444000)},\n",
       "    {u'_cls': u'AdditivePartHistory',\n",
       "     u'status': u'Auto-Quoted',\n",
       "     u'time': datetime.datetime(2015, 2, 4, 16, 38, 57, 757000)}],\n",
       "   u'material': ObjectId('5433037a80da5b2331e9722f'),\n",
       "   u'part': u'A3FC',\n",
       "   u'quantity_ordered': 1,\n",
       "   u'quantity_shipped': 0,\n",
       "   u'quote': {u'extended_price': 17.38, u'manual': False},\n",
       "   u'revision_num': 0}],\n",
       " u'shipping': {u'bill_receiver': False,\n",
       "  u'fob': False,\n",
       "  u'method': u'ground',\n",
       "  u'service': u'ups',\n",
       "  u'shipments': []},\n",
       " u'subtotal': 17.38,\n",
       " u'total': 17.38}"
      ]
     },
     "execution_count": 41,
     "metadata": {},
     "output_type": "execute_result"
    }
   ],
   "source": [
    "from pymongo import MongoClient\n",
    "\n",
    "client = MongoClient('localhost', 27017)\n",
    "db = client.xometry\n",
    "\n",
    "db.orders.find_one()"
   ]
  },
  {
   "cell_type": "markdown",
   "metadata": {},
   "source": [
    "Yuck!!!"
   ]
  },
  {
   "cell_type": "markdown",
   "metadata": {},
   "source": [
    "## Enter TidyMongo\n",
    "\n",
    "Tool to normalize mongo collection into relational, normalized pandas dataframes"
   ]
  },
  {
   "cell_type": "code",
   "execution_count": 34,
   "metadata": {
    "collapsed": false
   },
   "outputs": [
    {
     "data": {
      "text/plain": [
       "TidyResult(tables=[u'line_items', u'shipping', 'orders', u'parts', u'payment', u'history'])"
      ]
     },
     "execution_count": 34,
     "metadata": {},
     "output_type": "execute_result"
    }
   ],
   "source": [
    "from tidymongo import tidy\n",
    "tables = tidy(db.orders.find().limit(100), 'orders')\n",
    "tables"
   ]
  },
  {
   "cell_type": "code",
   "execution_count": 40,
   "metadata": {
    "collapsed": false
   },
   "outputs": [
    {
     "data": {
      "text/html": [
       "<div>\n",
       "<table border=\"1\" class=\"dataframe\">\n",
       "  <thead>\n",
       "    <tr style=\"text-align: right;\">\n",
       "      <th></th>\n",
       "      <th>_constructed</th>\n",
       "      <th>_deleted</th>\n",
       "      <th>_updated</th>\n",
       "      <th>assembly_required</th>\n",
       "      <th>coupon</th>\n",
       "      <th>due_date</th>\n",
       "      <th>notes</th>\n",
       "      <th>order_time</th>\n",
       "      <th>subtotal</th>\n",
       "      <th>total</th>\n",
       "      <th>user</th>\n",
       "      <th>user_email</th>\n",
       "    </tr>\n",
       "    <tr>\n",
       "      <th>_id</th>\n",
       "      <th></th>\n",
       "      <th></th>\n",
       "      <th></th>\n",
       "      <th></th>\n",
       "      <th></th>\n",
       "      <th></th>\n",
       "      <th></th>\n",
       "      <th></th>\n",
       "      <th></th>\n",
       "      <th></th>\n",
       "      <th></th>\n",
       "      <th></th>\n",
       "    </tr>\n",
       "  </thead>\n",
       "  <tbody>\n",
       "    <tr>\n",
       "      <th>0000-10000</th>\n",
       "      <td>2015-02-04 16:38:57.444</td>\n",
       "      <td>False</td>\n",
       "      <td>2016-02-01 07:49:36.651</td>\n",
       "      <td>False</td>\n",
       "      <td>NaN</td>\n",
       "      <td>NaN</td>\n",
       "      <td>NaN</td>\n",
       "      <td>NaN</td>\n",
       "      <td>17.38</td>\n",
       "      <td>17.38</td>\n",
       "      <td>NaN</td>\n",
       "      <td>NaN</td>\n",
       "    </tr>\n",
       "    <tr>\n",
       "      <th>0000-10001</th>\n",
       "      <td>2016-02-03 22:46:50.000</td>\n",
       "      <td>False</td>\n",
       "      <td>2016-02-03 22:47:47.000</td>\n",
       "      <td>False</td>\n",
       "      <td>NaN</td>\n",
       "      <td>NaN</td>\n",
       "      <td>NaN</td>\n",
       "      <td>NaN</td>\n",
       "      <td>54.96</td>\n",
       "      <td>54.96</td>\n",
       "      <td>NaN</td>\n",
       "      <td>xuejianw@gmail.com</td>\n",
       "    </tr>\n",
       "  </tbody>\n",
       "</table>\n",
       "</div>"
      ],
      "text/plain": [
       "                      _constructed _deleted                _updated  \\\n",
       "_id                                                                   \n",
       "0000-10000 2015-02-04 16:38:57.444    False 2016-02-01 07:49:36.651   \n",
       "0000-10001 2016-02-03 22:46:50.000    False 2016-02-03 22:47:47.000   \n",
       "\n",
       "           assembly_required coupon due_date notes order_time  subtotal  \\\n",
       "_id                                                                       \n",
       "0000-10000             False    NaN      NaN   NaN        NaN     17.38   \n",
       "0000-10001             False    NaN      NaN   NaN        NaN     54.96   \n",
       "\n",
       "            total user          user_email  \n",
       "_id                                         \n",
       "0000-10000  17.38  NaN                 NaN  \n",
       "0000-10001  54.96  NaN  xuejianw@gmail.com  "
      ]
     },
     "execution_count": 40,
     "metadata": {},
     "output_type": "execute_result"
    }
   ],
   "source": [
    "tables.orders.head(n=2)"
   ]
  },
  {
   "cell_type": "markdown",
   "metadata": {},
   "source": [
    "Nested document collections are split out to new dataframes with a foreign key columns (orders)"
   ]
  },
  {
   "cell_type": "code",
   "execution_count": 38,
   "metadata": {
    "collapsed": false
   },
   "outputs": [
    {
     "data": {
      "text/html": [
       "<div>\n",
       "<table border=\"1\" class=\"dataframe\">\n",
       "  <thead>\n",
       "    <tr style=\"text-align: right;\">\n",
       "      <th></th>\n",
       "      <th>_cls</th>\n",
       "      <th>finish</th>\n",
       "      <th>history</th>\n",
       "      <th>material</th>\n",
       "      <th>orders</th>\n",
       "      <th>part</th>\n",
       "      <th>production</th>\n",
       "      <th>quantity_ordered</th>\n",
       "      <th>quantity_shipped</th>\n",
       "      <th>quote</th>\n",
       "      <th>revision_num</th>\n",
       "    </tr>\n",
       "    <tr>\n",
       "      <th>_id</th>\n",
       "      <th></th>\n",
       "      <th></th>\n",
       "      <th></th>\n",
       "      <th></th>\n",
       "      <th></th>\n",
       "      <th></th>\n",
       "      <th></th>\n",
       "      <th></th>\n",
       "      <th></th>\n",
       "      <th></th>\n",
       "      <th></th>\n",
       "    </tr>\n",
       "  </thead>\n",
       "  <tbody>\n",
       "    <tr>\n",
       "      <th>56af0e109b724741d713f58d</th>\n",
       "      <td>NaN</td>\n",
       "      <td>543ef1f380da5b0c476373bf</td>\n",
       "      <td>[{u'status': u'RFQ', u'_cls': u'AdditivePartHi...</td>\n",
       "      <td>5433037a80da5b2331e9722f</td>\n",
       "      <td>0000-10000</td>\n",
       "      <td>A3FC</td>\n",
       "      <td>NaN</td>\n",
       "      <td>1</td>\n",
       "      <td>0</td>\n",
       "      <td>{u'manual': False, u'extended_price': 17.38}</td>\n",
       "      <td>0</td>\n",
       "    </tr>\n",
       "    <tr>\n",
       "      <th>56b2835a9821cc4cf91ff303</th>\n",
       "      <td>NaN</td>\n",
       "      <td>543ef1f380da5b0c476373bf</td>\n",
       "      <td>[{u'status': u'RFQ', u'_cls': u'PartHistory', ...</td>\n",
       "      <td>5594427d065c1461694a4caf</td>\n",
       "      <td>0000-10001</td>\n",
       "      <td>0018B37</td>\n",
       "      <td>NaN</td>\n",
       "      <td>1</td>\n",
       "      <td>0</td>\n",
       "      <td>{u'manual': False, u'extended_price': 10.17}</td>\n",
       "      <td>0</td>\n",
       "    </tr>\n",
       "  </tbody>\n",
       "</table>\n",
       "</div>"
      ],
      "text/plain": [
       "                         _cls                    finish  \\\n",
       "_id                                                       \n",
       "56af0e109b724741d713f58d  NaN  543ef1f380da5b0c476373bf   \n",
       "56b2835a9821cc4cf91ff303  NaN  543ef1f380da5b0c476373bf   \n",
       "\n",
       "                                                                    history  \\\n",
       "_id                                                                           \n",
       "56af0e109b724741d713f58d  [{u'status': u'RFQ', u'_cls': u'AdditivePartHi...   \n",
       "56b2835a9821cc4cf91ff303  [{u'status': u'RFQ', u'_cls': u'PartHistory', ...   \n",
       "\n",
       "                                          material      orders     part  \\\n",
       "_id                                                                       \n",
       "56af0e109b724741d713f58d  5433037a80da5b2331e9722f  0000-10000     A3FC   \n",
       "56b2835a9821cc4cf91ff303  5594427d065c1461694a4caf  0000-10001  0018B37   \n",
       "\n",
       "                         production  quantity_ordered  quantity_shipped  \\\n",
       "_id                                                                       \n",
       "56af0e109b724741d713f58d        NaN                 1                 0   \n",
       "56b2835a9821cc4cf91ff303        NaN                 1                 0   \n",
       "\n",
       "                                                                 quote  \\\n",
       "_id                                                                      \n",
       "56af0e109b724741d713f58d  {u'manual': False, u'extended_price': 17.38}   \n",
       "56b2835a9821cc4cf91ff303  {u'manual': False, u'extended_price': 10.17}   \n",
       "\n",
       "                          revision_num  \n",
       "_id                                     \n",
       "56af0e109b724741d713f58d             0  \n",
       "56b2835a9821cc4cf91ff303             0  "
      ]
     },
     "execution_count": 38,
     "metadata": {},
     "output_type": "execute_result"
    }
   ],
   "source": [
    "tables.parts.head(n=2)"
   ]
  },
  {
   "cell_type": "code",
   "execution_count": 39,
   "metadata": {
    "collapsed": false
   },
   "outputs": [
    {
     "data": {
      "text/html": [
       "<div>\n",
       "<table border=\"1\" class=\"dataframe\">\n",
       "  <thead>\n",
       "    <tr style=\"text-align: right;\">\n",
       "      <th></th>\n",
       "      <th>account_number</th>\n",
       "      <th>address</th>\n",
       "      <th>bill_receiver</th>\n",
       "      <th>fob</th>\n",
       "      <th>method</th>\n",
       "      <th>orders</th>\n",
       "      <th>service</th>\n",
       "      <th>shipments</th>\n",
       "    </tr>\n",
       "  </thead>\n",
       "  <tbody>\n",
       "    <tr>\n",
       "      <th>0</th>\n",
       "      <td>NaN</td>\n",
       "      <td>NaN</td>\n",
       "      <td>False</td>\n",
       "      <td>False</td>\n",
       "      <td>ground</td>\n",
       "      <td>0000-10000</td>\n",
       "      <td>ups</td>\n",
       "      <td>[]</td>\n",
       "    </tr>\n",
       "    <tr>\n",
       "      <th>1</th>\n",
       "      <td>NaN</td>\n",
       "      <td>NaN</td>\n",
       "      <td>False</td>\n",
       "      <td>False</td>\n",
       "      <td>ground</td>\n",
       "      <td>0000-10001</td>\n",
       "      <td>ups</td>\n",
       "      <td>[]</td>\n",
       "    </tr>\n",
       "  </tbody>\n",
       "</table>\n",
       "</div>"
      ],
      "text/plain": [
       "  account_number address bill_receiver    fob  method      orders service  \\\n",
       "0            NaN     NaN         False  False  ground  0000-10000     ups   \n",
       "1            NaN     NaN         False  False  ground  0000-10001     ups   \n",
       "\n",
       "  shipments  \n",
       "0        []  \n",
       "1        []  "
      ]
     },
     "execution_count": 39,
     "metadata": {},
     "output_type": "execute_result"
    }
   ],
   "source": [
    "tables.shipping.head(n=2)"
   ]
  },
  {
   "cell_type": "markdown",
   "metadata": {},
   "source": [
    "## Example: Show the Distribution of Quanity of Parts Shipped for orders in April"
   ]
  },
  {
   "cell_type": "code",
   "execution_count": 65,
   "metadata": {
    "collapsed": false
   },
   "outputs": [
    {
     "data": {
      "text/plain": [
       "TidyResult(tables=[u'line_items', u'shipping', 'orders', u'parts', u'shared_users', u'lead_time', u'payment', u'history'])"
      ]
     },
     "execution_count": 65,
     "metadata": {},
     "output_type": "execute_result"
    }
   ],
   "source": [
    "from datetime import datetime\n",
    "\n",
    "orders = db.orders.find({\n",
    "    '_constructed': {\n",
    "        '$gte': datetime(2016, 4, 1),\n",
    "        '$lt': datetime(2016, 5, 1)\n",
    "    }\n",
    "})\n",
    "\n",
    "tables = tidy(data=orders, observational_unit='orders')\n",
    "tables"
   ]
  },
  {
   "cell_type": "code",
   "execution_count": 66,
   "metadata": {
    "collapsed": false
   },
   "outputs": [
    {
     "data": {
      "text/plain": [
       "count    6792.000000\n",
       "mean        0.791225\n",
       "std        13.117751\n",
       "min         0.000000\n",
       "25%         0.000000\n",
       "50%         0.000000\n",
       "75%         0.000000\n",
       "max       999.000000\n",
       "Name: quantity_shipped, dtype: float64"
      ]
     },
     "execution_count": 66,
     "metadata": {},
     "output_type": "execute_result"
    }
   ],
   "source": [
    "tables.parts.quantity_shipped.describe()"
   ]
  },
  {
   "cell_type": "code",
   "execution_count": 74,
   "metadata": {
    "collapsed": false
   },
   "outputs": [
    {
     "data": {
      "image/png": "[encoded data removed]",
      "text/plain": [
       "<matplotlib.figure.Figure at 0x12cda9f50>"
      ]
     },
     "metadata": {},
     "output_type": "display_data"
    }
   ],
   "source": [
    "import matplotlib.pyplot as plt\n",
    "%matplotlib inline\n",
    "\n",
    "with plt.style.context('ggplot'):\n",
    "    plt.figure(figsize=(12, 3))\n",
    "    plt.title('Total parts shipped per order for April, 2016')\n",
    "    plt.ylabel('Number of parts')\n",
    "    plt.xlabel('Quanity shipped')\n",
    "    \n",
    "    shipped = tables.parts.groupby('orders').quantity_shipped.sum()\n",
    "    shipped[shipped > 0].hist(log=True, bins=30)\n",
    "    \n",
    "    plt.show()"
   ]
  },
  {
   "cell_type": "code",
   "execution_count": null,
   "metadata": {
    "collapsed": true
   },
   "outputs": [],
   "source": []
  }
 ],
 "metadata": {
  "kernelspec": {
   "display_name": "Python [conda root]",
   "language": "python",
   "name": "conda-root-py"
  },
  "language_info": {
   "codemirror_mode": {
    "name": "ipython",
    "version": 2
   },
   "file_extension": ".py",
   "mimetype": "text/x-python",
   "name": "python",
   "nbconvert_exporter": "python",
   "pygments_lexer": "ipython2",
   "version": "2.7.12"
  }
 },
 "nbformat": 4,
 "nbformat_minor": 1
}
